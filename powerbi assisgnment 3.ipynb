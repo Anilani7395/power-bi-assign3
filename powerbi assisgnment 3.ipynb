{
 "cells": [
  {
   "cell_type": "markdown",
   "id": "fcf30fbf",
   "metadata": {},
   "source": [
    "The following are the powerbi products\n",
    "1)powerbi desktop:-it allows combining data rom seperate databases files and web serviesnusing visual tools,tis helps to process even large quantites of data at high speed and get results fast.\n",
    "2)power bi mobile:- available on mobile devices so its possible to keep an eye on data changes using power bi mobile apps.\n",
    "3)power bi server:-wit a web portal it allows creating managing and displaying.\n",
    "4)power bi embedded:-for building reports dasboards and analytics in in our own software witout powerbi."
   ]
  },
  {
   "cell_type": "markdown",
   "id": "657609a4",
   "metadata": {},
   "source": [
    "power query:- power querry is a data condutivity and data preparation technology tat allows users to import and reshape data variety of microsot products including excel,powerbi and others."
   ]
  },
  {
   "cell_type": "markdown",
   "id": "5227a38d",
   "metadata": {},
   "source": [
    "power map:-it is a 3 dimensional data visualization tool that lets you look at information in new ways ,it helps to get te best visualization based on latitude ,longitutde or country information"
   ]
  },
  {
   "cell_type": "markdown",
   "id": "bde79608",
   "metadata": {},
   "source": [
    "the features of new version of power bi is\n",
    "*hierarcial axis\n",
    "*improved display name\n",
    "*conditional formatting \n",
    "*mobile formatting options\n",
    "*information protection update"
   ]
  },
  {
   "cell_type": "code",
   "execution_count": null,
   "id": "82d6f3cd",
   "metadata": {},
   "outputs": [],
   "source": []
  },
  {
   "cell_type": "code",
   "execution_count": null,
   "id": "107d0129",
   "metadata": {},
   "outputs": [],
   "source": []
  },
  {
   "cell_type": "code",
   "execution_count": null,
   "id": "acd3e3b6",
   "metadata": {},
   "outputs": [],
   "source": []
  },
  {
   "cell_type": "code",
   "execution_count": null,
   "id": "a93677fc",
   "metadata": {},
   "outputs": [],
   "source": []
  },
  {
   "cell_type": "code",
   "execution_count": null,
   "id": "0db72e5c",
   "metadata": {},
   "outputs": [],
   "source": []
  },
  {
   "cell_type": "code",
   "execution_count": null,
   "id": "c8773c8b",
   "metadata": {},
   "outputs": [],
   "source": []
  },
  {
   "cell_type": "code",
   "execution_count": null,
   "id": "63faec64",
   "metadata": {},
   "outputs": [],
   "source": []
  }
 ],
 "metadata": {
  "kernelspec": {
   "display_name": "Python 3 (ipykernel)",
   "language": "python",
   "name": "python3"
  },
  "language_info": {
   "codemirror_mode": {
    "name": "ipython",
    "version": 3
   },
   "file_extension": ".py",
   "mimetype": "text/x-python",
   "name": "python",
   "nbconvert_exporter": "python",
   "pygments_lexer": "ipython3",
   "version": "3.9.13"
  }
 },
 "nbformat": 4,
 "nbformat_minor": 5
}
